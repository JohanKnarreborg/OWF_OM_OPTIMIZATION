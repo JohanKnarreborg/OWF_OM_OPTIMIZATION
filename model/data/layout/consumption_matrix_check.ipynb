{
 "cells": [
  {
   "cell_type": "code",
   "execution_count": 2,
   "metadata": {},
   "outputs": [],
   "source": [
    "import pandas as pd \n",
    "import numpy as np"
   ]
  },
  {
   "cell_type": "code",
   "execution_count": 3,
   "metadata": {},
   "outputs": [
    {
     "data": {
      "text/plain": [
       "array([[0., 1., 1., ..., 1., 2., 3.],\n",
       "       [1., 0., 1., ..., 1., 2., 3.],\n",
       "       [1., 1., 0., ..., 1., 2., 3.],\n",
       "       ...,\n",
       "       [1., 1., 1., ..., 0., 2., 3.],\n",
       "       [2., 2., 2., ..., 2., 0., 4.],\n",
       "       [3., 3., 3., ..., 3., 4., 0.]])"
      ]
     },
     "execution_count": 3,
     "metadata": {},
     "output_type": "execute_result"
    }
   ],
   "source": [
    "con_matrix = np.load('con_matrix.npy')\n",
    "dist_matrix = pd.read_csv('dist_matrix_time.csv').to_numpy()\n",
    "con_matrix.shape\n",
    "dist_matrix"
   ]
  },
  {
   "cell_type": "code",
   "execution_count": 4,
   "metadata": {},
   "outputs": [
    {
     "data": {
      "text/plain": [
       "array([367.80923663, 173.42212895, 128.970165  , 110.55863401,\n",
       "       100.73233974,  94.69007035,  90.62327065,  87.70940127,\n",
       "        85.52378754,  83.8261559 ,  82.47081057,  81.36447402])"
      ]
     },
     "execution_count": 4,
     "metadata": {},
     "output_type": "execute_result"
    }
   ],
   "source": [
    "con_matrix[0,72,:]"
   ]
  },
  {
   "cell_type": "code",
   "execution_count": 5,
   "metadata": {},
   "outputs": [],
   "source": [
    "#make the third dimention the same value as the first element in the third dimention\n",
    "con_matrix_2 = con_matrix.copy()\n",
    "for i in range(con_matrix.shape[0]):\n",
    "    for j in range(con_matrix.shape[1]):\n",
    "        mini  = dist_matrix[i,j].astype(int) \n",
    "        for k in range(con_matrix.shape[2]):\n",
    "            con_matrix_2[i,j,k] = con_matrix[i,j,mini]\n"
   ]
  },
  {
   "cell_type": "code",
   "execution_count": 6,
   "metadata": {},
   "outputs": [
    {
     "data": {
      "text/plain": [
       "array([110.55863401, 110.55863401, 110.55863401, 110.55863401,\n",
       "       110.55863401, 110.55863401, 110.55863401, 110.55863401,\n",
       "       110.55863401, 110.55863401, 110.55863401, 110.55863401])"
      ]
     },
     "execution_count": 6,
     "metadata": {},
     "output_type": "execute_result"
    }
   ],
   "source": [
    "con_matrix_2[0,72,:]"
   ]
  },
  {
   "cell_type": "code",
   "execution_count": 7,
   "metadata": {},
   "outputs": [],
   "source": [
    "#save the new matrix\n",
    "np.save('con_matrix_noconsumptionsavings.npy',con_matrix_2)"
   ]
  },
  {
   "cell_type": "code",
   "execution_count": null,
   "metadata": {},
   "outputs": [],
   "source": []
  }
 ],
 "metadata": {
  "kernelspec": {
   "display_name": "THESISv",
   "language": "python",
   "name": "python3"
  },
  "language_info": {
   "codemirror_mode": {
    "name": "ipython",
    "version": 3
   },
   "file_extension": ".py",
   "mimetype": "text/x-python",
   "name": "python",
   "nbconvert_exporter": "python",
   "pygments_lexer": "ipython3",
   "version": "3.12.2"
  }
 },
 "nbformat": 4,
 "nbformat_minor": 2
}
